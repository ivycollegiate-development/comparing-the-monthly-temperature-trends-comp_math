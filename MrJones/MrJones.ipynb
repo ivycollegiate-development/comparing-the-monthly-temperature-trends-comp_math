{
 "cells": [
  {
   "cell_type": "code",
   "execution_count": null,
   "metadata": {},
   "outputs": [],
   "source": [
    "import matplotlib.pyplot as plt \n",
    "\n",
    "Year nyc_temp_2000 = [31.3, 37.3, 47.2, 51.0, 63.5, 71.3, 72.3, 72.7, 66.0, 57.0, 45.3, 31.1] \n",
    "Year nyc_temp_2006 = [40.9, 35.7, 43.1, 55.7, 63.1, 71.0, 77.9, 75.8, 66.6, 56.2, 51.9, 43.6] \n",
    "Year nyc_temp_2012 = [37.3, 40.9, 50.9, 54.8, 65.1, 71.0, 78.8, 76.7, 68.8, 58.0, 43.9, 41.5] \n",
    "\n",
    "Months: range(1, 13) \n",
    "\n",
    "plt.plot(months, nyc_temp_2000, label='2000') \n",
    "plt.plot(months, nyc_temp_2006, label='2006') \n",
    "plt.plot(months, nyc_temp_2012, label='2012') \n",
    "plt.xlabel('Months') \n",
    "plt.ylabel('Temperature (F)') \n",
    "plt.title('Monthly Temperature Trends of New York City') \n",
    "plt.legend() \n",
    "plt.show() \n"
   ]
  }
 ],
 "metadata": {
  "kernelspec": {
   "display_name": "Python 3",
   "language": "python",
   "name": "python3"
  },
  "language_info": {
   "name": "python",
   "version": "3.12.1"
  }
 },
 "nbformat": 4,
 "nbformat_minor": 2
}
